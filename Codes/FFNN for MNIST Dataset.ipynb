{
  "nbformat": 4,
  "nbformat_minor": 0,
  "metadata": {
    "kernelspec": {
      "name": "python3",
      "display_name": "Python 3"
    },
    "language_info": {
      "codemirror_mode": {
        "name": "ipython",
        "version": 3
      },
      "file_extension": ".py",
      "mimetype": "text/x-python",
      "name": "python",
      "nbconvert_exporter": "python",
      "pygments_lexer": "ipython3",
      "version": "3.6.8"
    },
    "colab": {
      "name": "3.1 FFNN for MNIST dataset.ipynb",
      "provenance": []
    },
    "accelerator": "GPU"
  },
  "cells": [
    {
      "cell_type": "code",
      "metadata": {
        "id": "FACEksENv_Hh",
        "colab_type": "code",
        "colab": {}
      },
      "source": [
        "from keras.datasets import mnist\n",
        "#loading the mnist dataset\n",
        "\n",
        "(train_data, train_target),(test_data, test_target) = mnist.load_data()\n",
        "#spliting the dataset into training and testing"
      ],
      "execution_count": 0,
      "outputs": []
    },
    {
      "cell_type": "code",
      "metadata": {
        "id": "ZqT96HNf9yS3",
        "colab_type": "code",
        "colab": {
          "base_uri": "https://localhost:8080/",
          "height": 265
        },
        "outputId": "bec78c8c-340e-40fe-b9a0-ff643ed5dcac"
      },
      "source": [
        "from matplotlib import pyplot as plt\n",
        "\n",
        "plt.imshow(train_data[0],cmap='gray')\n",
        "plt.show()"
      ],
      "execution_count": 9,
      "outputs": [
        {
          "output_type": "display_data",
          "data": {
            "image/png": "[encoded data removed]",
            "text/plain": [
              "<Figure size 432x288 with 1 Axes>"
            ]
          },
          "metadata": {
            "tags": []
          }
        }
      ]
    },
    {
      "cell_type": "code",
      "metadata": {
        "id": "uoq_CiJW-G3v",
        "colab_type": "code",
        "colab": {
          "base_uri": "https://localhost:8080/",
          "height": 34
        },
        "outputId": "d093fff7-fa90-40aa-df1e-f468fa607f92"
      },
      "source": [
        "print(train_target[0])"
      ],
      "execution_count": 10,
      "outputs": [
        {
          "output_type": "stream",
          "text": [
            "5\n"
          ],
          "name": "stdout"
        }
      ]
    },
    {
      "cell_type": "code",
      "metadata": {
        "id": "Cedhn8pv9mpa",
        "colab_type": "code",
        "colab": {}
      },
      "source": [
        "train_data= train_data / 255.0 \n",
        "test_data=test_data/255.0\n",
        "#Scaling the 0-255 gray image to 0-1 (Requirement before training the Neural Network)"
      ],
      "execution_count": 0,
      "outputs": []
    },
    {
      "cell_type": "code",
      "metadata": {
        "id": "H7WOojQu9zm4",
        "colab_type": "code",
        "colab": {
          "base_uri": "https://localhost:8080/",
          "height": 289
        },
        "outputId": "d722e6fc-eb21-4fe5-cb9a-409f54cb049e"
      },
      "source": [
        "from keras.models import Sequential\n",
        "#loading Sequential model from keras\n",
        "from keras.layers import Flatten,Dense\n",
        "#loading Flatten and Dense layers from keras\n",
        "\n",
        "model = models.Sequential()\n",
        "#creating a Sequential type neural network (a empty neural network, add layer by layer)\n",
        "model.add(Flatten(input_shape=(28, 28)))\n",
        "#a flatten layer to flatten up the 28x28 input image into 784 inputs\n",
        "model.add(Dense(512, activation='relu'))\n",
        "#1st Hidden layer with 512 Neurons\n",
        "model.add(Dense(256, activation='relu'))\n",
        "#2nd Hidden layer with 256 Neurons\n",
        "model.add(Dense(10, activation='softmax'))\n",
        "#output layer with 10 output neurons\n",
        "model.compile(optimizer='adam',loss='categorical_crossentropy',metrics=['accuracy'])\n",
        "#compiling the neural network with necessary parameters\n",
        "\n",
        "model.summary()\n",
        "#neural network architecture and parameters"
      ],
      "execution_count": 12,
      "outputs": [
        {
          "output_type": "stream",
          "text": [
            "Model: \"sequential_2\"\n",
            "_________________________________________________________________\n",
            "Layer (type)                 Output Shape              Param #   \n",
            "=================================================================\n",
            "flatten_2 (Flatten)          (None, 784)               0         \n",
            "_________________________________________________________________\n",
            "dense_4 (Dense)              (None, 512)               401920    \n",
            "_________________________________________________________________\n",
            "dense_5 (Dense)              (None, 256)               131328    \n",
            "_________________________________________________________________\n",
            "dense_6 (Dense)              (None, 10)                2570      \n",
            "=================================================================\n",
            "Total params: 535,818\n",
            "Trainable params: 535,818\n",
            "Non-trainable params: 0\n",
            "_________________________________________________________________\n"
          ],
          "name": "stdout"
        }
      ]
    },
    {
      "cell_type": "code",
      "metadata": {
        "id": "walrAPBDAmZa",
        "colab_type": "code",
        "colab": {
          "base_uri": "https://localhost:8080/",
          "height": 1000
        },
        "outputId": "48d7f38e-1299-4d13-e035-4b9fc766a3da"
      },
      "source": [
        "from keras.utils import to_categorical\n",
        "\n",
        "train_target=to_categorical(train_target)\n",
        "#convering the labels into a categorical representation\n",
        "\n",
        "history=model.fit(train_data, train_target, epochs=50)\n",
        "#training the neural network for 50 epochs"
      ],
      "execution_count": 13,
      "outputs": [
        {
          "output_type": "stream",
          "text": [
            "Epoch 1/50\n",
            "60000/60000 [==============================] - 7s 110us/step - loss: 0.1830 - acc: 0.9450\n",
            "Epoch 2/50\n",
            "60000/60000 [==============================] - 7s 109us/step - loss: 0.0779 - acc: 0.9760\n",
            "Epoch 3/50\n",
            "60000/60000 [==============================] - 7s 116us/step - loss: 0.0551 - acc: 0.9822\n",
            "Epoch 4/50\n",
            "60000/60000 [==============================] - 6s 108us/step - loss: 0.0401 - acc: 0.9870\n",
            "Epoch 5/50\n",
            "60000/60000 [==============================] - 6s 105us/step - loss: 0.0327 - acc: 0.9894\n",
            "Epoch 6/50\n",
            "60000/60000 [==============================] - 6s 105us/step - loss: 0.0272 - acc: 0.9912\n",
            "Epoch 7/50\n",
            "60000/60000 [==============================] - 7s 110us/step - loss: 0.0230 - acc: 0.9930\n",
            "Epoch 8/50\n",
            "60000/60000 [==============================] - 6s 105us/step - loss: 0.0190 - acc: 0.9939\n",
            "Epoch 9/50\n",
            "60000/60000 [==============================] - 7s 109us/step - loss: 0.0196 - acc: 0.9935\n",
            "Epoch 10/50\n",
            "60000/60000 [==============================] - 6s 104us/step - loss: 0.0178 - acc: 0.9945\n",
            "Epoch 11/50\n",
            "60000/60000 [==============================] - 7s 111us/step - loss: 0.0157 - acc: 0.9953\n",
            "Epoch 12/50\n",
            "60000/60000 [==============================] - 7s 116us/step - loss: 0.0173 - acc: 0.9949\n",
            "Epoch 13/50\n",
            "60000/60000 [==============================] - 7s 109us/step - loss: 0.0144 - acc: 0.9953\n",
            "Epoch 14/50\n",
            "60000/60000 [==============================] - 6s 106us/step - loss: 0.0136 - acc: 0.9961\n",
            "Epoch 15/50\n",
            "60000/60000 [==============================] - 6s 103us/step - loss: 0.0147 - acc: 0.9957\n",
            "Epoch 16/50\n",
            "60000/60000 [==============================] - 7s 110us/step - loss: 0.0114 - acc: 0.9969\n",
            "Epoch 17/50\n",
            "60000/60000 [==============================] - 6s 106us/step - loss: 0.0131 - acc: 0.9964\n",
            "Epoch 18/50\n",
            "60000/60000 [==============================] - 6s 107us/step - loss: 0.0124 - acc: 0.9966\n",
            "Epoch 19/50\n",
            "60000/60000 [==============================] - 6s 105us/step - loss: 0.0133 - acc: 0.9967\n",
            "Epoch 20/50\n",
            "60000/60000 [==============================] - 6s 107us/step - loss: 0.0103 - acc: 0.9975\n",
            "Epoch 21/50\n",
            "60000/60000 [==============================] - 7s 119us/step - loss: 0.0104 - acc: 0.9972\n",
            "Epoch 22/50\n",
            "60000/60000 [==============================] - 6s 107us/step - loss: 0.0121 - acc: 0.9969\n",
            "Epoch 23/50\n",
            "60000/60000 [==============================] - 6s 105us/step - loss: 0.0110 - acc: 0.9971\n",
            "Epoch 24/50\n",
            "60000/60000 [==============================] - 6s 104us/step - loss: 0.0127 - acc: 0.9969\n",
            "Epoch 25/50\n",
            "60000/60000 [==============================] - 7s 112us/step - loss: 0.0084 - acc: 0.9977\n",
            "Epoch 26/50\n",
            "60000/60000 [==============================] - 7s 111us/step - loss: 0.0113 - acc: 0.9974\n",
            "Epoch 27/50\n",
            "60000/60000 [==============================] - 7s 109us/step - loss: 0.0085 - acc: 0.9981\n",
            "Epoch 28/50\n",
            "60000/60000 [==============================] - 6s 104us/step - loss: 0.0103 - acc: 0.9977\n",
            "Epoch 29/50\n",
            "60000/60000 [==============================] - 6s 103us/step - loss: 0.0100 - acc: 0.9975\n",
            "Epoch 30/50\n",
            "60000/60000 [==============================] - 7s 111us/step - loss: 0.0106 - acc: 0.9975\n",
            "Epoch 31/50\n",
            "60000/60000 [==============================] - 7s 112us/step - loss: 0.0112 - acc: 0.9976\n",
            "Epoch 32/50\n",
            "60000/60000 [==============================] - 6s 105us/step - loss: 0.0085 - acc: 0.9981\n",
            "Epoch 33/50\n",
            "60000/60000 [==============================] - 6s 103us/step - loss: 0.0095 - acc: 0.9980\n",
            "Epoch 34/50\n",
            "60000/60000 [==============================] - 6s 104us/step - loss: 0.0101 - acc: 0.9980\n",
            "Epoch 35/50\n",
            "60000/60000 [==============================] - 7s 117us/step - loss: 0.0136 - acc: 0.9976\n",
            "Epoch 36/50\n",
            "60000/60000 [==============================] - 7s 109us/step - loss: 0.0110 - acc: 0.9978\n",
            "Epoch 37/50\n",
            "60000/60000 [==============================] - 6s 106us/step - loss: 0.0087 - acc: 0.9981\n",
            "Epoch 38/50\n",
            "60000/60000 [==============================] - 6s 106us/step - loss: 0.0049 - acc: 0.9991\n",
            "Epoch 39/50\n",
            "60000/60000 [==============================] - 7s 111us/step - loss: 0.0092 - acc: 0.9982\n",
            "Epoch 40/50\n",
            "60000/60000 [==============================] - 7s 116us/step - loss: 0.0119 - acc: 0.9976\n",
            "Epoch 41/50\n",
            "60000/60000 [==============================] - 7s 108us/step - loss: 0.0093 - acc: 0.9981\n",
            "Epoch 42/50\n",
            "60000/60000 [==============================] - 6s 105us/step - loss: 0.0079 - acc: 0.9983\n",
            "Epoch 43/50\n",
            "60000/60000 [==============================] - 6s 105us/step - loss: 0.0052 - acc: 0.9988\n",
            "Epoch 44/50\n",
            "60000/60000 [==============================] - 7s 108us/step - loss: 0.0102 - acc: 0.9979\n",
            "Epoch 45/50\n",
            "60000/60000 [==============================] - 6s 107us/step - loss: 0.0106 - acc: 0.9981\n",
            "Epoch 46/50\n",
            "60000/60000 [==============================] - 6s 106us/step - loss: 0.0111 - acc: 0.9980\n",
            "Epoch 47/50\n",
            "60000/60000 [==============================] - 6s 105us/step - loss: 0.0123 - acc: 0.9978\n",
            "Epoch 48/50\n",
            "60000/60000 [==============================] - 7s 110us/step - loss: 0.0081 - acc: 0.9985\n",
            "Epoch 49/50\n",
            "60000/60000 [==============================] - 7s 115us/step - loss: 0.0074 - acc: 0.9986\n",
            "Epoch 50/50\n",
            "60000/60000 [==============================] - 7s 111us/step - loss: 0.0086 - acc: 0.9984\n"
          ],
          "name": "stdout"
        }
      ]
    },
    {
      "cell_type": "code",
      "metadata": {
        "id": "tMhBuWI1v_Hq",
        "colab_type": "code",
        "colab": {
          "base_uri": "https://localhost:8080/",
          "height": 357
        },
        "outputId": "f9ffae57-855e-42bb-bf30-14e9eac29d36"
      },
      "source": [
        "results=model.predict(test_data)\n",
        "print(results[:10])\n",
        "#testing and getting results using unseen data"
      ],
      "execution_count": 14,
      "outputs": [
        {
          "output_type": "stream",
          "text": [
            "[[0.0000000e+00 6.9398118e-38 0.0000000e+00 0.0000000e+00 0.0000000e+00\n",
            "  0.0000000e+00 0.0000000e+00 1.0000000e+00 0.0000000e+00 0.0000000e+00]\n",
            " [0.0000000e+00 0.0000000e+00 1.0000000e+00 0.0000000e+00 0.0000000e+00\n",
            "  0.0000000e+00 0.0000000e+00 0.0000000e+00 0.0000000e+00 0.0000000e+00]\n",
            " [0.0000000e+00 1.0000000e+00 2.4029764e-24 0.0000000e+00 3.4336058e-32\n",
            "  0.0000000e+00 1.4799719e-26 2.6412619e-29 3.6321718e-27 0.0000000e+00]\n",
            " [1.0000000e+00 0.0000000e+00 6.5888029e-31 0.0000000e+00 8.2718347e-33\n",
            "  2.4994573e-36 1.3434713e-24 0.0000000e+00 0.0000000e+00 5.3404138e-25]\n",
            " [0.0000000e+00 0.0000000e+00 0.0000000e+00 0.0000000e+00 1.0000000e+00\n",
            "  0.0000000e+00 0.0000000e+00 2.7210006e-37 0.0000000e+00 1.8196173e-28]\n",
            " [0.0000000e+00 1.0000000e+00 0.0000000e+00 0.0000000e+00 2.4600285e-38\n",
            "  0.0000000e+00 0.0000000e+00 0.0000000e+00 1.3877031e-34 0.0000000e+00]\n",
            " [0.0000000e+00 0.0000000e+00 0.0000000e+00 0.0000000e+00 1.0000000e+00\n",
            "  0.0000000e+00 0.0000000e+00 0.0000000e+00 8.4165492e-29 1.1342492e-26]\n",
            " [0.0000000e+00 0.0000000e+00 4.0306278e-35 2.3706683e-20 8.4635024e-34\n",
            "  1.9403838e-26 0.0000000e+00 6.2574650e-29 1.0805120e-29 1.0000000e+00]\n",
            " [0.0000000e+00 2.1642054e-29 1.4765247e-36 0.0000000e+00 3.1543278e-33\n",
            "  1.0000000e+00 3.6782053e-12 0.0000000e+00 4.0648423e-21 3.2429375e-22]\n",
            " [0.0000000e+00 0.0000000e+00 0.0000000e+00 0.0000000e+00 5.6724153e-22\n",
            "  0.0000000e+00 0.0000000e+00 8.5206154e-26 1.2132184e-35 1.0000000e+00]]\n"
          ],
          "name": "stdout"
        }
      ]
    },
    {
      "cell_type": "code",
      "metadata": {
        "id": "13GTitf_v_Hx",
        "colab_type": "code",
        "colab": {}
      },
      "source": [
        "import numpy as np\n",
        "results=np.argmax(results,axis=1)"
      ],
      "execution_count": 0,
      "outputs": []
    },
    {
      "cell_type": "code",
      "metadata": {
        "id": "WsnU889xv_H1",
        "colab_type": "code",
        "outputId": "a84660db-092a-4b75-ee0e-39d8c0b2052c",
        "colab": {
          "base_uri": "https://localhost:8080/",
          "height": 51
        }
      },
      "source": [
        "print(test_target[:10])\n",
        "print(results[:10])"
      ],
      "execution_count": 16,
      "outputs": [
        {
          "output_type": "stream",
          "text": [
            "[7 2 1 0 4 1 4 9 5 9]\n",
            "[7 2 1 0 4 1 4 9 5 9]\n"
          ],
          "name": "stdout"
        }
      ]
    },
    {
      "cell_type": "code",
      "metadata": {
        "id": "Hb6li-t-v_H5",
        "colab_type": "code",
        "colab": {
          "base_uri": "https://localhost:8080/",
          "height": 34
        },
        "outputId": "8f83a714-39af-4796-a0d0-f5ea535a0d13"
      },
      "source": [
        "from sklearn.metrics import accuracy_score\n",
        "accuracy=accuracy_score(test_target,results)\n",
        "print('Accuracy:',accuracy)\n",
        "#getting the accuracy between the actual and predicted results"
      ],
      "execution_count": 17,
      "outputs": [
        {
          "output_type": "stream",
          "text": [
            "Accuracy: 0.9838\n"
          ],
          "name": "stdout"
        }
      ]
    },
    {
      "cell_type": "code",
      "metadata": {
        "id": "IvMIHnt-v_IE",
        "colab_type": "code",
        "outputId": "5935e720-1021-48ee-9152-89de5c055415",
        "colab": {
          "base_uri": "https://localhost:8080/",
          "height": 296
        }
      },
      "source": [
        "from matplotlib import pyplot as plt\n",
        "\n",
        "plt.plot(history.history['loss'])\n",
        "plt.xlabel('# epochs')\n",
        "plt.ylabel('loss')\n",
        "#visualizing the loss"
      ],
      "execution_count": 18,
      "outputs": [
        {
          "output_type": "execute_result",
          "data": {
            "text/plain": [
              "Text(0, 0.5, 'loss')"
            ]
          },
          "metadata": {
            "tags": []
          },
          "execution_count": 18
        },
        {
          "output_type": "display_data",
          "data": {
            "image/png": "[encoded data removed]",
            "text/plain": [
              "<Figure size 432x288 with 1 Axes>"
            ]
          },
          "metadata": {
            "tags": []
          }
        }
      ]
    },
    {
      "cell_type": "code",
      "metadata": {
        "id": "OVZj2VPLv_IQ",
        "colab_type": "code",
        "outputId": "61c19128-f8ee-4bb3-b89f-aabe4e95a3b1",
        "colab": {
          "base_uri": "https://localhost:8080/",
          "height": 296
        }
      },
      "source": [
        "plt.plot(history.history['acc'])\n",
        "plt.xlabel('# epochs')\n",
        "plt.ylabel('accuracy')\n",
        "#visualizing the accuracy"
      ],
      "execution_count": 19,
      "outputs": [
        {
          "output_type": "execute_result",
          "data": {
            "text/plain": [
              "Text(0, 0.5, 'accuracy')"
            ]
          },
          "metadata": {
            "tags": []
          },
          "execution_count": 19
        },
        {
          "output_type": "display_data",
          "data": {
            "image/png": "[encoded data removed]",
            "text/plain": [
              "<Figure size 432x288 with 1 Axes>"
            ]
          },
          "metadata": {
            "tags": []
          }
        }
      ]
    },
    {
      "cell_type": "code",
      "metadata": {
        "id": "YL5QqxSDv_IV",
        "colab_type": "code",
        "colab": {}
      },
      "source": [
        ""
      ],
      "execution_count": 0,
      "outputs": []
    }
  ]
}