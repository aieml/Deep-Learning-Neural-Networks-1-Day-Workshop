{
 "cells": [
  {
   "cell_type": "code",
   "execution_count": 27,
   "metadata": {},
   "outputs": [],
   "source": [
    "import keras\n",
    "mnist = keras.datasets.mnist\n",
    "\n",
    "(train_data, train_target),(test_data, test_target) = mnist.load_data()"
   ]
  },
  {
   "cell_type": "code",
   "execution_count": 28,
   "metadata": {},
   "outputs": [
    {
     "name": "stdout",
     "output_type": "stream",
     "text": [
      "5\n"
     ]
    },
    {
     "data": {
      "text/plain": [
       "<matplotlib.image.AxesImage at 0x1b8c5940dd8>"
      ]
     },
     "execution_count": 28,
     "metadata": {},
     "output_type": "execute_result"
    },
    {
     "data": {
      "image/png": "[encoded data removed]",
      "text/plain": [
       "<Figure size 432x288 with 1 Axes>"
      ]
     },
     "metadata": {
      "needs_background": "light"
     },
     "output_type": "display_data"
    }
   ],
   "source": [
    "from matplotlib import pyplot as plt\n",
    "\n",
    "print(train_target[0])\n",
    "plt.imshow(train_data[0],cmap='gray')"
   ]
  },
  {
   "cell_type": "code",
   "execution_count": 29,
   "metadata": {},
   "outputs": [],
   "source": [
    "from keras.models import Sequential\n",
    "from keras.layers import Dense,Flatten\n",
    "\n",
    "model = Sequential()\n",
    "model.add(Flatten(input_shape=(28, 28)))\n",
    "model.add(Dense(512, activation='relu'))\n",
    "model.add(Dense(100, activation='relu'))\n",
    "model.add(Dense(10, activation='softmax'))\n",
    "model.compile(optimizer='adam',loss='categorical_crossentropy',metrics=['accuracy'])"
   ]
  },
  {
   "cell_type": "code",
   "execution_count": 30,
   "metadata": {},
   "outputs": [],
   "source": [
    "train_data=train_data/255.0\n",
    "test_data=test_data/255.0\n",
    "\n",
    "from keras.utils import to_categorical\n",
    "\n",
    "train_target=to_categorical(train_target)"
   ]
  },
  {
   "cell_type": "code",
   "execution_count": 31,
   "metadata": {},
   "outputs": [
    {
     "name": "stdout",
     "output_type": "stream",
     "text": [
      "Epoch 1/15\n",
      "60000/60000 [==============================] - 12s 197us/step - loss: 0.1898 - acc: 0.9418\n",
      "Epoch 2/15\n",
      "60000/60000 [==============================] - 12s 196us/step - loss: 0.0808 - acc: 0.9752\n",
      "Epoch 3/15\n",
      "60000/60000 [==============================] - 12s 192us/step - loss: 0.0530 - acc: 0.9830\n",
      "Epoch 4/15\n",
      "60000/60000 [==============================] - 12s 192us/step - loss: 0.0412 - acc: 0.9868\n",
      "Epoch 5/15\n",
      "60000/60000 [==============================] - 12s 196us/step - loss: 0.0325 - acc: 0.9894\n",
      "Epoch 6/15\n",
      "60000/60000 [==============================] - 12s 195us/step - loss: 0.0251 - acc: 0.9916\n",
      "Epoch 7/15\n",
      "60000/60000 [==============================] - 12s 192us/step - loss: 0.0232 - acc: 0.9926\n",
      "Epoch 8/15\n",
      "60000/60000 [==============================] - 12s 206us/step - loss: 0.0185 - acc: 0.9936\n",
      "Epoch 9/15\n",
      "60000/60000 [==============================] - 12s 203us/step - loss: 0.0160 - acc: 0.9949\n",
      "Epoch 10/15\n",
      "60000/60000 [==============================] - 12s 196us/step - loss: 0.0167 - acc: 0.9946\n",
      "Epoch 11/15\n",
      "60000/60000 [==============================] - 12s 195us/step - loss: 0.0154 - acc: 0.9953\n",
      "Epoch 12/15\n",
      "60000/60000 [==============================] - 12s 200us/step - loss: 0.0133 - acc: 0.9959\n",
      "Epoch 13/15\n",
      "60000/60000 [==============================] - 12s 203us/step - loss: 0.0134 - acc: 0.9961\n",
      "Epoch 14/15\n",
      "60000/60000 [==============================] - 12s 208us/step - loss: 0.0101 - acc: 0.9968\n",
      "Epoch 15/15\n",
      "60000/60000 [==============================] - 12s 193us/step - loss: 0.0116 - acc: 0.9966\n"
     ]
    }
   ],
   "source": [
    "history=model.fit(train_data, train_target, epochs=15)"
   ]
  },
  {
   "cell_type": "code",
   "execution_count": 32,
   "metadata": {},
   "outputs": [
    {
     "data": {
      "text/plain": [
       "<matplotlib.image.AxesImage at 0x1b8c6c62ac8>"
      ]
     },
     "execution_count": 32,
     "metadata": {},
     "output_type": "execute_result"
    },
    {
     "data": {
      "image/png": "[encoded data removed]",
      "text/plain": [
       "<Figure size 432x288 with 1 Axes>"
      ]
     },
     "metadata": {
      "needs_background": "light"
     },
     "output_type": "display_data"
    }
   ],
   "source": [
    "plt.imshow(test_data[0],cmap='gray')"
   ]
  },
  {
   "cell_type": "code",
   "execution_count": 33,
   "metadata": {},
   "outputs": [
    {
     "name": "stdout",
     "output_type": "stream",
     "text": [
      "Probabilities: [[1.9349003e-25 1.4505251e-22 4.1202123e-23 3.0123672e-22 9.4789588e-27\n",
      "  3.6582573e-20 3.2920988e-36 1.0000000e+00 1.4671189e-23 9.1110053e-17]]\n",
      "Label: 7\n"
     ]
    }
   ],
   "source": [
    "import numpy as np\n",
    "\n",
    "result=model.predict([[test_data[0]]])\n",
    "print('Probabilities:',result)\n",
    "print('Label:',np.argmax(result))"
   ]
  },
  {
   "cell_type": "code",
   "execution_count": 34,
   "metadata": {},
   "outputs": [
    {
     "data": {
      "text/plain": [
       "[<matplotlib.lines.Line2D at 0x1b8c8360668>]"
      ]
     },
     "execution_count": 34,
     "metadata": {},
     "output_type": "execute_result"
    },
    {
     "data": {
      "image/png": "[encoded data removed]",
      "text/plain": [
       "<Figure size 432x288 with 1 Axes>"
      ]
     },
     "metadata": {
      "needs_background": "light"
     },
     "output_type": "display_data"
    }
   ],
   "source": [
    "plt.plot(history.history['loss'])"
   ]
  },
  {
   "cell_type": "code",
   "execution_count": 35,
   "metadata": {},
   "outputs": [
    {
     "data": {
      "text/plain": [
       "[<matplotlib.lines.Line2D at 0x1b8c83c1240>]"
      ]
     },
     "execution_count": 35,
     "metadata": {},
     "output_type": "execute_result"
    },
    {
     "data": {
      "image/png": "[encoded data removed]",
      "text/plain": [
       "<Figure size 432x288 with 1 Axes>"
      ]
     },
     "metadata": {
      "needs_background": "light"
     },
     "output_type": "display_data"
    }
   ],
   "source": [
    "plt.plot(history.history['acc'])"
   ]
  }
 ],
 "metadata": {
  "kernelspec": {
   "display_name": "Python 3",
   "language": "python",
   "name": "python3"
  },
  "language_info": {
   "codemirror_mode": {
    "name": "ipython",
    "version": 3
   },
   "file_extension": ".py",
   "mimetype": "text/x-python",
   "name": "python",
   "nbconvert_exporter": "python",
   "pygments_lexer": "ipython3",
   "version": "3.6.8"
  }
 },
 "nbformat": 4,
 "nbformat_minor": 2
}
